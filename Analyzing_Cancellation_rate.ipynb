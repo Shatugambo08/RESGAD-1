{
  "nbformat": 4,
  "nbformat_minor": 0,
  "metadata": {
    "colab": {
      "provenance": [],
      "authorship_tag": "ABX9TyN3ImcmRdJ77smtNBUUIcHM",
      "include_colab_link": true
    },
    "kernelspec": {
      "name": "python3",
      "display_name": "Python 3"
    },
    "language_info": {
      "name": "python"
    }
  },
  "cells": [
    {
      "cell_type": "markdown",
      "metadata": {
        "id": "view-in-github",
        "colab_type": "text"
      },
      "source": [
        "<a href=\"https://colab.research.google.com/github/Shatugambo08/RESGAD-1/blob/main/Analyzing_Cancellation_rate.ipynb\" target=\"_parent\"><img src=\"https://colab.research.google.com/assets/colab-badge.svg\" alt=\"Open In Colab\"/></a>"
      ]
    },
    {
      "cell_type": "markdown",
      "source": [],
      "metadata": {
        "id": "eb1euBVEo0SS"
      }
    },
    {
      "cell_type": "markdown",
      "source": [
        "# Analyzing Trip cancellation rate\n",
        "\n",
        "### Overview of the project\n",
        "\n",
        "This query calculates the cancellation rate of trips of each day from 10-01-2013 to 10-03-2013 using SQL server.\n",
        "\n",
        "We will be considering trips where both client and driver are not banned . Using this procedure joining_data---Filtering_data---Calculating_ Cancellation_rate---Grouping data--Ordering_result."
      ],
      "metadata": {
        "id": "wHk65dhcEBev"
      }
    },
    {
      "cell_type": "code",
      "source": [
        "---Create Table Trips\n",
        "CREATE TABLE Trips (\n",
        "    id INT PRIMARY KEY,\n",
        "    client_id INT,\n",
        "    driver_id INT,\n",
        "    city_id INT,\n",
        "    status VARCHAR(20),\n",
        "    request_at VARCHAR(25),\n",
        "    FOREIGN KEY (client_id) REFERENCES Users(users_id),\n",
        "    FOREIGN KEY (driver_id) REFERENCES Users(users_id)\n",
        ");"
      ],
      "metadata": {
        "colab": {
          "base_uri": "https://localhost:8080/",
          "height": 106
        },
        "id": "eZU3eF4yrgz6",
        "outputId": "ee45d777-0e9c-445f-c7f8-a58379c825f1"
      },
      "execution_count": null,
      "outputs": [
        {
          "output_type": "error",
          "ename": "SyntaxError",
          "evalue": "invalid syntax (ipython-input-2-2773720026.py, line 1)",
          "traceback": [
            "\u001b[0;36m  File \u001b[0;32m\"/tmp/ipython-input-2-2773720026.py\"\u001b[0;36m, line \u001b[0;32m1\u001b[0m\n\u001b[0;31m    ---Create Table Trips\u001b[0m\n\u001b[0m              ^\u001b[0m\n\u001b[0;31mSyntaxError\u001b[0m\u001b[0;31m:\u001b[0m invalid syntax\n"
          ]
        }
      ]
    },
    {
      "cell_type": "code",
      "source": [
        "---Create Table Users\n",
        "CREATE TABLE Users (\n",
        "    users_id INT PRIMARY KEY,\n",
        "    banned VARCHAR(10),\n",
        "    role VARCHAR(10)\n",
        ");"
      ],
      "metadata": {
        "id": "RZRr22yKrZ1j"
      },
      "execution_count": null,
      "outputs": []
    },
    {
      "cell_type": "code",
      "source": [
        "---Populate table Trips\n",
        "INSERT INTO Trips (id, client_id, driver_id, city_id, status, request_at) VALUES\n",
        "(1, 1, 2, 1, 'completed', '2013-10-01'),\n",
        "(2, 1, 2, 1, 'cancelled_by_client', '2013-10-01'),\n",
        "(3, 1, 2, 1, 'completed', '2013-10-01'),\n",
        "(4, 1, 2, 1, 'completed', '2013-10-02'),\n",
        "(5, 1, 2, 1, 'completed', '2013-10-02'),\n",
        "(6, 1, 2, 1, 'completed', '2013-10-03'),\n",
        "(7, 1, 2, 1, 'cancelled_by_driver', '2013-10-03');"
      ],
      "metadata": {
        "id": "e7t6A7Str-4h"
      },
      "execution_count": null,
      "outputs": []
    },
    {
      "cell_type": "code",
      "source": [
        "---Populate table Users\n",
        "INSERT INTO Users (users_id, banned, role) VALUES\n",
        "(1, 'No', 'client'),\n",
        "(2, 'No', 'driver'),\n",
        "(3, 'Yes', 'client'),\n",
        "(4, 'No', 'driver');"
      ],
      "metadata": {
        "id": "E-UwhbNKrr2q"
      },
      "execution_count": null,
      "outputs": []
    },
    {
      "cell_type": "code",
      "source": [
        "FROM Trips t\n",
        "INNER JOIN Users c ON t.client_id = c.users_id\n",
        "INNER JOIN Users d ON t.driver_id = d.users_id"
      ],
      "metadata": {
        "id": "DGzEpSYzvhxZ"
      },
      "execution_count": null,
      "outputs": []
    },
    {
      "cell_type": "markdown",
      "source": [
        "---Joining data.\n",
        "\n",
        "Using INNER JOIN cause every trip should have a client and driver,using trips where both not banned."
      ],
      "metadata": {
        "id": "mPLPdjfhvsMh"
      }
    },
    {
      "cell_type": "code",
      "source": [
        "WHERE CAST(t.request_at AS DATE) BETWEEN '2013-10-01' AND '2013-10-03'\n",
        "AND c.banned = 'No'\n",
        "AND d.banned = 'No'"
      ],
      "metadata": {
        "id": "b9M1cy1BwI_Q"
      },
      "execution_count": null,
      "outputs": []
    },
    {
      "cell_type": "markdown",
      "source": [
        "--Filtering_data\n",
        "\n",
        "Filter trips between '2013-10-01' and '2013-10-03'. Since request_at is a varchar, cast it to DATE for reliable comparison in SQL Server"
      ],
      "metadata": {
        "id": "AP6f_Koox7R4"
      }
    },
    {
      "cell_type": "code",
      "source": [
        "SUM(CASE WHEN t.status IN ('cancelled_by_client', 'cancelled_by_driver') THEN 1 ELSE 0 END)\n",
        "CAST(...) AS DECIMAL) / COUNT(*)\n",
        "ROUND(..., 2)"
      ],
      "metadata": {
        "id": "ub3EkQd4yf4O"
      },
      "execution_count": null,
      "outputs": []
    },
    {
      "cell_type": "markdown",
      "source": [
        "---Cancellation_Rate\n",
        "\n",
        "To get Cancelled Trips,Count trips where status is 'cancelled_by_client' or 'cancelled_by_driver' using a CASE statement within SUM.\n",
        "\n",
        "Use COUNT(*) to get the total number of trips per day.\n",
        "\n",
        "Divide cancelled trips by total trips.\n",
        "\n",
        "Cast the numerator to DECIMAL to avoid integer division (which would truncate the result to 0).\n",
        "\n",
        "Use ROUND to format the result to two decimal places."
      ],
      "metadata": {
        "id": "u-KhpIN1zF1p"
      }
    },
    {
      "cell_type": "code",
      "source": [
        "SELECT\n",
        "    CAST(t.request_at AS DATE) AS Day,\n",
        "    ROUND(CAST(SUM(CASE WHEN t.status IN ('cancelled_by_client', 'cancelled_by_driver') THEN 1 ELSE 0 END) AS DECIMAL) / COUNT(*), 2) AS [Cancellation Rate]\n",
        "GROUP BY CAST(t.request_at AS DATE)"
      ],
      "metadata": {
        "id": "zn5msE2Kz6I6"
      },
      "execution_count": null,
      "outputs": []
    },
    {
      "cell_type": "markdown",
      "source": [
        "--- Grouping_data.\n",
        "\n",
        "Group results by the date, casting request_at to DATE.\n"
      ],
      "metadata": {
        "id": "cNOV-FR10B4J"
      }
    },
    {
      "cell_type": "code",
      "source": [
        "ORDER BY Day"
      ],
      "metadata": {
        "id": "AAXkpfqT0bq1"
      },
      "execution_count": null,
      "outputs": []
    },
    {
      "cell_type": "markdown",
      "source": [
        "Ordering_result\n",
        "\n",
        "Order by Day ensure results are presented chronologically, using the exact date given (2013-10-01 to 2013-10-03)."
      ],
      "metadata": {
        "id": "vvWXnrJe0dTS"
      }
    },
    {
      "cell_type": "code",
      "source": [
        "SELECT\n",
        "    CAST(t.request_at AS DATE) AS Day,\n",
        "    ROUND(CAST(SUM(CASE WHEN t.status IN ('cancelled_by_client', 'cancelled_by_driver') THEN 1 ELSE 0 END) AS DECIMAL) / COUNT(*), 2) AS [Cancellation Rate]\n",
        "FROM Trips t\n",
        "INNER JOIN Users c ON t.client_id = c.users_id\n",
        "INNER JOIN Users d ON t.driver_id = d.users_id\n",
        "WHERE CAST(t.request_at AS DATE) BETWEEN '2013-10-01' AND '2013-10-03'\n",
        "    AND c.banned = 'No'\n",
        "    AND d.banned = 'No'\n",
        "GROUP BY CAST(t.request_at AS DATE)\n",
        "ORDER BY Day"
      ],
      "metadata": {
        "id": "ub_2cY3V2a2Q"
      },
      "execution_count": null,
      "outputs": []
    },
    {
      "cell_type": "markdown",
      "source": [
        "--- Merging data"
      ],
      "metadata": {
        "id": "oH6j8fNe8QGV"
      }
    }
  ]
}