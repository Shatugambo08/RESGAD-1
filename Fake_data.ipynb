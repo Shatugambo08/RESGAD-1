{
  "nbformat": 4,
  "nbformat_minor": 0,
  "metadata": {
    "colab": {
      "provenance": [],
      "authorship_tag": "ABX9TyOqylPqKeR9poH2HgS65rfS",
      "include_colab_link": true
    },
    "kernelspec": {
      "name": "python3",
      "display_name": "Python 3"
    },
    "language_info": {
      "name": "python"
    }
  },
  "cells": [
    {
      "cell_type": "markdown",
      "metadata": {
        "id": "view-in-github",
        "colab_type": "text"
      },
      "source": [
        "<a href=\"https://colab.research.google.com/github/Shatugambo08/RESGAD-1/blob/main/Fake_data.ipynb\" target=\"_parent\"><img src=\"https://colab.research.google.com/assets/colab-badge.svg\" alt=\"Open In Colab\"/></a>"
      ]
    },
    {
      "cell_type": "code",
      "execution_count": 2,
      "metadata": {
        "colab": {
          "base_uri": "https://localhost:8080/",
          "height": 69
        },
        "id": "Uf6VhA3e8v1Q",
        "outputId": "80f3ea67-d760-467e-9c46-9347bd0d31f6"
      },
      "outputs": [
        {
          "output_type": "stream",
          "name": "stdout",
          "text": [
            "Requirement already satisfied: faker in /usr/local/lib/python3.11/dist-packages (37.4.0)\n",
            "Requirement already satisfied: tzdata in /usr/local/lib/python3.11/dist-packages (from faker) (2025.1)\n",
            "Data saved to fake_data.csv\n"
          ]
        },
        {
          "output_type": "display_data",
          "data": {
            "text/plain": [
              "<IPython.core.display.Javascript object>"
            ],
            "application/javascript": [
              "\n",
              "    async function download(id, filename, size) {\n",
              "      if (!google.colab.kernel.accessAllowed) {\n",
              "        return;\n",
              "      }\n",
              "      const div = document.createElement('div');\n",
              "      const label = document.createElement('label');\n",
              "      label.textContent = `Downloading \"${filename}\": `;\n",
              "      div.appendChild(label);\n",
              "      const progress = document.createElement('progress');\n",
              "      progress.max = size;\n",
              "      div.appendChild(progress);\n",
              "      document.body.appendChild(div);\n",
              "\n",
              "      const buffers = [];\n",
              "      let downloaded = 0;\n",
              "\n",
              "      const channel = await google.colab.kernel.comms.open(id);\n",
              "      // Send a message to notify the kernel that we're ready.\n",
              "      channel.send({})\n",
              "\n",
              "      for await (const message of channel.messages) {\n",
              "        // Send a message to notify the kernel that we're ready.\n",
              "        channel.send({})\n",
              "        if (message.buffers) {\n",
              "          for (const buffer of message.buffers) {\n",
              "            buffers.push(buffer);\n",
              "            downloaded += buffer.byteLength;\n",
              "            progress.value = downloaded;\n",
              "          }\n",
              "        }\n",
              "      }\n",
              "      const blob = new Blob(buffers, {type: 'application/binary'});\n",
              "      const a = document.createElement('a');\n",
              "      a.href = window.URL.createObjectURL(blob);\n",
              "      a.download = filename;\n",
              "      div.appendChild(a);\n",
              "      a.click();\n",
              "      div.remove();\n",
              "    }\n",
              "  "
            ]
          },
          "metadata": {}
        },
        {
          "output_type": "display_data",
          "data": {
            "text/plain": [
              "<IPython.core.display.Javascript object>"
            ],
            "application/javascript": [
              "download(\"download_ae7752fe-c1d7-45cc-a906-520ad30c33d7\", \"fake_data.csv\", 17268)"
            ]
          },
          "metadata": {}
        }
      ],
      "source": [
        "# Install the Faker library in Colab\n",
        "!pip install faker\n",
        "\n",
        "# Import libraries\n",
        "from faker import Faker\n",
        "import csv\n",
        "import re\n",
        "\n",
        "# Initialize Faker\n",
        "fake = Faker('en_US')\n",
        "\n",
        "# Function to generate fake data\n",
        "def generate_fake_data(num_records):\n",
        "    data = []\n",
        "    for _ in range(num_records):\n",
        "        full_name = fake.name()\n",
        "        phone_number = '+' + fake.phone_number()\n",
        "        email_address = fake.email()\n",
        "        job_title = fake.job()\n",
        "        city = fake.city()\n",
        "        data.append([full_name, phone_number, email_address, job_title, city])\n",
        "    return data\n",
        "\n",
        "# Function to standardize phone numbers to 11-digit format\n",
        "def standardize_phone_number(phone):\n",
        "    # Remove all non-numeric characters\n",
        "    numeric_phone = re.sub(r'\\D', '', phone)\n",
        "    # Ensure 11 digits: add country code '1' if 10 digits (assuming US numbers)\n",
        "    if len(numeric_phone) == 10:\n",
        "        numeric_phone = '1' + numeric_phone\n",
        "    elif len(numeric_phone) > 11:\n",
        "        numeric_phone = numeric_phone[-11:]  # Take last 11 digits if too long\n",
        "    return numeric_phone\n",
        "\n",
        "# Generate 200 records of fake data\n",
        "num_records = 200\n",
        "data = generate_fake_data(num_records)\n",
        "\n",
        "# Process the data: standardize phone numbers\n",
        "for record in data:\n",
        "    record[1] = standardize_phone_number(record[1])\n",
        "\n",
        "# Save data to CSV file in Colab\n",
        "csv_file = 'fake_data.csv'\n",
        "with open(csv_file, 'w', newline='') as file:\n",
        "    writer = csv.writer(file)\n",
        "    writer.writerow(['Full Name', 'Phone Number', 'Email Address', 'Job Title', 'City'])\n",
        "    writer.writerows(data)\n",
        "\n",
        "print(f\"Data saved to {csv_file}\")\n",
        "\n",
        "# Download the CSV file from Colab,
        "from google.colab import files\n",
        "files.download(csv_file)"
      ]
    }
  ]
}
